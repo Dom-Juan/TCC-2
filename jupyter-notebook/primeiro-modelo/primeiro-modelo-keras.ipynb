{
 "cells": [
  {
   "cell_type": "markdown",
   "metadata": {},
   "source": [
    "### Primeiro modelo tensorflow com Keras."
   ]
  },
  {
   "cell_type": "code",
   "execution_count": 9,
   "metadata": {},
   "outputs": [
    {
     "name": "stdout",
     "output_type": "stream",
     "text": [
      "sentence    Wow... Loved this place.\n",
      "label                              1\n",
      "source                          yelp\n",
      "Name: 0, dtype: object\n"
     ]
    }
   ],
   "source": [
    "import pandas as pd\n",
    "\n",
    "filepath_dict = {\n",
    "  'yelp':   './data/yelp_labelled.txt',\n",
    "  'amazon': './data/amazon_cells_labelled.txt',\n",
    "  'imdb':   './data/imdb_labelled.txt'\n",
    "}\n",
    "\n",
    "df_list = []\n",
    "for source, filepath in filepath_dict.items():\n",
    "    df = pd.read_csv(filepath, names=['sentence', 'label'], sep='\\t')\n",
    "    df['source'] = source  # Add another column filled with the source name\n",
    "    df_list.append(df)\n",
    "\n",
    "df = pd.concat(df_list)\n",
    "print(df.iloc[0])\n"
   ]
  },
  {
   "cell_type": "markdown",
   "metadata": {},
   "source": [
    "### Baseline Model\n"
   ]
  },
  {
   "cell_type": "code",
   "execution_count": 10,
   "metadata": {},
   "outputs": [],
   "source": [
    "#from sklearn.feature_extraction.text import CountVectorizer # vetoriza as sentenças do texto.\n",
    "# Suponha as seguintes sentenças\n",
    "#sentences = ['John likes ice cream', 'John hates chocolate.']\n",
    "\n",
    "#vectorizer = CountVectorizer(min_df=0, lowercase=False)\n",
    "#vectorizer.fit(sentences)\n",
    "#vectorizer.vocabulary_                      # em tuplas\n",
    "#vectorizer.transform(sentences).toarray()   # em arrays"
   ]
  },
  {
   "cell_type": "markdown",
   "metadata": {},
   "source": [
    "### Criando um modelo Simples com SKlearn kit"
   ]
  },
  {
   "cell_type": "code",
   "execution_count": 12,
   "metadata": {},
   "outputs": [
    {
     "name": "stdout",
     "output_type": "stream",
     "text": [
      "  (0, 125)\t1\n",
      "  (0, 145)\t1\n",
      "  (0, 201)\t1\n",
      "  (0, 597)\t1\n",
      "  (0, 600)\t1\n",
      "  (0, 710)\t1\n",
      "  (0, 801)\t2\n",
      "  (0, 888)\t1\n",
      "  (0, 973)\t1\n",
      "  (0, 1042)\t1\n",
      "  (0, 1308)\t1\n",
      "  (0, 1345)\t1\n",
      "  (0, 1360)\t1\n",
      "  (0, 1494)\t2\n",
      "  (0, 1524)\t2\n",
      "  (0, 1587)\t1\n",
      "  (0, 1622)\t1\n",
      "  (0, 1634)\t1\n",
      "  (1, 63)\t1\n",
      "  (1, 136)\t1\n",
      "  (1, 597)\t1\n",
      "  (1, 616)\t1\n",
      "  (1, 638)\t1\n",
      "  (1, 725)\t1\n",
      "  (1, 1001)\t1\n",
      "  :\t:\n",
      "  (746, 1634)\t1\n",
      "  (747, 42)\t1\n",
      "  (747, 654)\t1\n",
      "  (747, 1193)\t2\n",
      "  (747, 1237)\t1\n",
      "  (747, 1494)\t1\n",
      "  (747, 1520)\t1\n",
      "  (748, 600)\t1\n",
      "  (748, 654)\t1\n",
      "  (748, 954)\t1\n",
      "  (748, 1001)\t1\n",
      "  (748, 1494)\t1\n",
      "  (749, 14)\t1\n",
      "  (749, 15)\t1\n",
      "  (749, 57)\t1\n",
      "  (749, 108)\t1\n",
      "  (749, 347)\t1\n",
      "  (749, 553)\t1\n",
      "  (749, 675)\t1\n",
      "  (749, 758)\t1\n",
      "  (749, 801)\t1\n",
      "  (749, 1010)\t1\n",
      "  (749, 1105)\t1\n",
      "  (749, 1492)\t1\n",
      "  (749, 1634)\t2\n"
     ]
    }
   ],
   "source": [
    "from sklearn.model_selection import train_test_split\n",
    "from sklearn.feature_extraction.text import CountVectorizer\n",
    "\n",
    "df_yelp = df[df['source'] == 'yelp']\n",
    "\n",
    "sentences = df_yelp['sentence'].values\n",
    "y = df_yelp['label'].values\n",
    "\n",
    "sentences_train, sentences_test, y_train, y_test = train_test_split(sentences, y, test_size=0.25, random_state=1000)\n",
    "\n",
    "vectorizer = CountVectorizer()  # Tokenização das palavras.\n",
    "vectorizer.fit(sentences_train)\n",
    "\n",
    "X_train = vectorizer.transform(sentences_train)\n",
    "X_test  = vectorizer.transform(sentences_test)\n",
    "\n",
    "print(X_train)"
   ]
  },
  {
   "cell_type": "markdown",
   "metadata": {},
   "source": [
    "### Utilizando regreção linear para classificar."
   ]
  },
  {
   "cell_type": "code",
   "execution_count": 32,
   "metadata": {},
   "outputs": [
    {
     "name": "stdout",
     "output_type": "stream",
     "text": [
      "Accuracy: 0.796\n",
      "Precisão de 0.796 para os dados: yelp\n",
      "Precisão de 0.796 para os dados: amazon\n",
      "Precisão de 0.7486631016042781 para os dados: imdb\n"
     ]
    }
   ],
   "source": [
    "from sklearn.linear_model import LogisticRegression\n",
    "\n",
    "classifier = LogisticRegression()\n",
    "classifier.fit(X_train, y_train)\n",
    "score = classifier.score(X_test, y_test)\n",
    "\n",
    "print(\"Accuracy:\", score)\n",
    "\n",
    "for source in df['source'].unique():\n",
    "  df_source = df[df['source'] == source]\n",
    "  sentences = df_source['sentence'].values\n",
    "  y = df_source['label'].values\n",
    "\n",
    "  sentences_train, sentences_test, y_train, y_test = train_test_split(\n",
    "      sentences, y, test_size=0.25, random_state=1000)\n",
    "\n",
    "  vectorizer = CountVectorizer()\n",
    "  vectorizer.fit(sentences_train)\n",
    "  X_train = vectorizer.transform(sentences_train)\n",
    "  X_test  = vectorizer.transform(sentences_test)\n",
    "\n",
    "  classifier = LogisticRegression()\n",
    "  classifier.fit(X_train, y_train)\n",
    "  score = classifier.score(X_test, y_test)\n",
    "  print(f\"Precisão de {score} para os dados: {source}\")\n",
    "\n",
    "  "
   ]
  },
  {
   "cell_type": "markdown",
   "metadata": {},
   "source": [
    "### Introdução ao Keras"
   ]
  },
  {
   "cell_type": "code",
   "execution_count": 39,
   "metadata": {},
   "outputs": [
    {
     "name": "stdout",
     "output_type": "stream",
     "text": [
      "Model: \"sequential\"\n",
      "_________________________________________________________________\n",
      " Layer (type)                Output Shape              Param #   \n",
      "=================================================================\n",
      " dense (Dense)               (None, 10)                25060     \n",
      "                                                                 \n",
      " dense_1 (Dense)             (None, 1)                 11        \n",
      "                                                                 \n",
      "=================================================================\n",
      "Total params: 25,071\n",
      "Trainable params: 25,071\n",
      "Non-trainable params: 0\n",
      "_________________________________________________________________\n"
     ]
    },
    {
     "name": "stderr",
     "output_type": "stream",
     "text": [
      "C:\\Users\\Magoimortal\\AppData\\Roaming\\Python\\Python310\\site-packages\\tensorflow\\python\\framework\\indexed_slices.py:444: UserWarning: Converting sparse IndexedSlices(IndexedSlices(indices=Tensor(\"gradient_tape/sequential/dense/embedding_lookup_sparse/Reshape_1:0\", shape=(None,), dtype=int32), values=Tensor(\"gradient_tape/sequential/dense/embedding_lookup_sparse/Reshape:0\", shape=(None, 10), dtype=float32), dense_shape=Tensor(\"gradient_tape/sequential/dense/embedding_lookup_sparse/Cast:0\", shape=(2,), dtype=int32))) to a dense Tensor of unknown shape. This may consume a large amount of memory.\n",
      "  warnings.warn(\n"
     ]
    },
    {
     "name": "stdout",
     "output_type": "stream",
     "text": [
      "<keras.callbacks.History object at 0x0000014A836F44C0>\n",
      "Prediction no treinamento: 1.0\n",
      "Prediction no teste: 0.7700534462928772\n"
     ]
    }
   ],
   "source": [
    "import tensorflow as tf\n",
    "from tensorflow import keras\n",
    "from keras.backend import clear_session\n",
    "\n",
    "# clear_session() -> limpa os pesos da antiga analise\n",
    "clear_session()\n",
    "\n",
    "input_dim = X_train.shape[1] # quantidade de features\n",
    "\n",
    "# modelo baseado em uma pilha de layers, utilizando o layer mais comum Dense.\n",
    "model = keras.Sequential()\n",
    "model.add(keras.layers.Dense(10, input_dim = input_dim, activation='relu'))\n",
    "model.add(keras.layers.Dense(1, activation='sigmoid'))\n",
    "# Configurando o modelo de treinamento.\n",
    "model.compile(loss='binary_crossentropy', optimizer='adam', metrics=['accuracy'])\n",
    "model.summary() # Mostra os paramestros disponíveis para treinar\n",
    "\n",
    "\"\"\"\n",
    "history -> callback automático do treinamento do modelo.\n",
    "epochs -> quantas iterações de treinamento devem ser desenvolvidas\n",
    "batch_size -> tamanho de amostras disponíveis para utilizar\n",
    "validation_data -> data de treinamento.\n",
    "\"\"\"\n",
    "history = model.fit(\n",
    "  X_train,\n",
    "  y_train,\n",
    "  epochs=100,\n",
    "  verbose=False,\n",
    "  validation_data=(X_test, y_test),\n",
    "  batch_size=10\n",
    ")\n",
    "\n",
    "print(history)\n",
    "\n",
    "loss, accuracy = model.evaluate(X_train, y_train, verbose=False)\n",
    "print(f\"Prediction no treinamento: {accuracy}\")\n",
    "loss, accuracy = model.evaluate(X_test, y_test, verbose=False)\n",
    "print(f\"Prediction no teste: {accuracy}\")\n",
    "\n"
   ]
  },
  {
   "cell_type": "markdown",
   "metadata": {},
   "source": [
    "## Embedding de palavras\n",
    "\n",
    "### One Hot Encoding"
   ]
  },
  {
   "cell_type": "code",
   "execution_count": 46,
   "metadata": {},
   "outputs": [
    {
     "name": "stdout",
     "output_type": "stream",
     "text": [
      "[3 2 1 0]\n"
     ]
    },
    {
     "data": {
      "text/plain": [
       "array([[0., 0., 0., 1.],\n",
       "       [0., 0., 1., 0.],\n",
       "       [0., 1., 0., 0.],\n",
       "       [1., 0., 0., 0.]])"
      ]
     },
     "execution_count": 46,
     "metadata": {},
     "output_type": "execute_result"
    }
   ],
   "source": [
    "from sklearn.preprocessing import LabelEncoder\n",
    "from sklearn.preprocessing import OneHotEncoder\n",
    "\n",
    "cities =[\"São Paulo\", \"Rio de Janeiro\", \"Presidente Prudente\", \"Brasília\"]\n",
    "\n",
    "encoder = LabelEncoder()\n",
    "city_labels = encoder.fit_transform(cities)\n",
    "print(city_labels)\n",
    "\n",
    "# Agora com One Hot Encoding\n",
    "\n",
    "encoder = OneHotEncoder(sparse=False)\n",
    "city_labels = city_labels.reshape(len(cities), 1)\n",
    "encoder.fit_transform(city_labels)\n",
    "\n"
   ]
  },
  {
   "cell_type": "code",
   "execution_count": 47,
   "metadata": {},
   "outputs": [
    {
     "name": "stdout",
     "output_type": "stream",
     "text": [
      "I am a fan of his ... This movie sucked really bad.  \n",
      "[7, 150, 2, 932, 4, 49, 6, 11, 563, 45, 30]\n"
     ]
    }
   ],
   "source": [
    "from keras.preprocessing.text import Tokenizer\n",
    "\n",
    "tokenizer = Tokenizer(num_words=5000)\n",
    "tokenizer.fit_on_texts(sentences_train)\n",
    "\n",
    "X_train = tokenizer.texts_to_sequences(sentences_train)\n",
    "X_test = tokenizer.texts_to_sequences(sentences_test)\n",
    "\n",
    "vocab_size = len(tokenizer.word_index) + 1 # adiconando 1 pois 0 é um index reservado.\n",
    "\n",
    "print(sentences_train[2])\n",
    "print(X_train[2])"
   ]
  },
  {
   "cell_type": "code",
   "execution_count": null,
   "metadata": {},
   "outputs": [],
   "source": []
  }
 ],
 "metadata": {
  "kernelspec": {
   "display_name": "Python 3.10.6 64-bit",
   "language": "python",
   "name": "python3"
  },
  "language_info": {
   "codemirror_mode": {
    "name": "ipython",
    "version": 3
   },
   "file_extension": ".py",
   "mimetype": "text/x-python",
   "name": "python",
   "nbconvert_exporter": "python",
   "pygments_lexer": "ipython3",
   "version": "3.10.6"
  },
  "orig_nbformat": 4,
  "vscode": {
   "interpreter": {
    "hash": "26de051ba29f2982a8de78e945f0abaf191376122a1563185a90213a26c5da77"
   }
  }
 },
 "nbformat": 4,
 "nbformat_minor": 2
}
